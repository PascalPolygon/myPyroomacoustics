{
 "metadata": {
  "language_info": {
   "codemirror_mode": {
    "name": "ipython",
    "version": 3
   },
   "file_extension": ".py",
   "mimetype": "text/x-python",
   "name": "python",
   "nbconvert_exporter": "python",
   "pygments_lexer": "ipython3",
   "version": "3.6.9-final"
  },
  "orig_nbformat": 2,
  "kernelspec": {
   "name": "python3",
   "display_name": "Python 3.6.9 64-bit",
   "metadata": {
    "interpreter": {
     "hash": "31f2aee4e71d21fbe5cf8b01ff0e069b9275f58929596ceb00d14d90e3e16cd6"
    }
   }
  }
 },
 "nbformat": 4,
 "nbformat_minor": 2,
 "cells": [
  {
   "cell_type": "code",
   "execution_count": 9,
   "metadata": {},
   "outputs": [],
   "source": [
    "import numpy as np\n",
    "from scipy.io import wavfile\n",
    "import cmath"
   ]
  },
  {
   "source": [
    "Verifying far field plane-wave approximation:\n",
    "Distance $d$ between source and mics should be $$d > 2\\frac{D^2}{\\lambda}$$\n",
    "Preferrably $$d >> 2\\frac{D^2}{\\lambda}$$"
   ],
   "cell_type": "markdown",
   "metadata": {}
  },
  {
   "cell_type": "code",
   "execution_count": 2,
   "metadata": {},
   "outputs": [
    {
     "output_type": "stream",
     "name": "stdout",
     "text": [
      "Lambda: 0.7840909090909091 m\nMinimum d for far field to hold: 0.057391304347826085 m\n"
     ]
    }
   ],
   "source": [
    "c = 345 #speed of sound (m/s)\n",
    "f = 440 #Example w pure A (Hz)\n",
    "D = 0.15 #inter mic distance\n",
    "lmbda = c/f\n",
    "print(f'Lambda: {lmbda} m')\n",
    "min_d = 2*(D**2)/lmbda\n",
    "print(f'Minimum d for far field to hold: {min_d} m')"
   ]
  },
  {
   "source": [
    "Narrow band frequency assumption holds since we are working w a pure freq. Signal amplitude and phase does not change over time."
   ],
   "cell_type": "markdown",
   "metadata": {}
  },
  {
   "cell_type": "code",
   "execution_count": 5,
   "metadata": {},
   "outputs": [
    {
     "output_type": "stream",
     "name": "stdout",
     "text": [
      "(166440,)\n"
     ]
    }
   ],
   "source": [
    "#Need to record and load pure A sound\n",
    "fs, audio = wavfile.read(\"./samples/guitar_16k.wav\")\n",
    "print(audio.shape)"
   ]
  },
  {
   "cell_type": "code",
   "execution_count": 7,
   "metadata": {},
   "outputs": [],
   "source": [
    "def split_audio(myAudio):\n",
    "    left = []\n",
    "    right = []\n",
    "    for i in range(0, len(audio) // 2, 2):\n",
    "        left.append(myAudio[i * 2])\n",
    "        left.append(myAudio[i * 2 + 1])\n",
    "        right.append(myAudio[i * 2 + 2])\n",
    "        right.append(myAudio[i * 2 + 3])\n",
    "    left = np.array(left)\n",
    "    right = np.array(right)\n",
    "    return left, right"
   ]
  },
  {
   "cell_type": "code",
   "execution_count": 8,
   "metadata": {},
   "outputs": [
    {
     "output_type": "stream",
     "name": "stdout",
     "text": [
      "[-10  -2 -24 ...   0  -1   0]\n[ 14   0 -60 ...   0  -1  -1]\n"
     ]
    }
   ],
   "source": [
    "left, right = split_audio(audio)\n",
    "print(left)\n",
    "print(right)"
   ]
  },
  {
   "cell_type": "code",
   "execution_count": 41,
   "metadata": {},
   "outputs": [
    {
     "output_type": "execute_result",
     "data": {
      "text/plain": [
       "(1+0j)"
      ]
     },
     "metadata": {},
     "execution_count": 41
    }
   ],
   "source": [
    "theta = rad(0) #To initialiaze (place holder)\n",
    "a = cmath.exp(-1j*(2*np.pi)*D*sin(theta)/lmbda)\n",
    "a"
   ]
  },
  {
   "cell_type": "code",
   "execution_count": 57,
   "metadata": {},
   "outputs": [
    {
     "output_type": "execute_result",
     "data": {
      "text/plain": [
       "(2, 166440)"
      ]
     },
     "metadata": {},
     "execution_count": 57
    }
   ],
   "source": [
    "a = steer_vec(2, D, lmbda, theta=0)\n",
    "a = np.reshape(a, (len(a),1))\n",
    "X = audio*a #inner product (Compare this result to left right after splitting)"
   ]
  },
  {
   "cell_type": "code",
   "execution_count": 46,
   "metadata": {},
   "outputs": [],
   "source": [
    "def sin(x):\n",
    "    return np.sin(x)\n",
    "def rad(x):\n",
    "    return np.radians(x)\n",
    "def steer_vec(nMics, D, lmbda, theta=0):\n",
    "    a = np.ones((nMics), dtype=complex)\n",
    "    # print(a)\n",
    "    for i in range(1,nMics):\n",
    "        # print(i)\n",
    "        res = cmath.exp(-1j*(2*np.pi)*D*sin(theta)/lmbda)\n",
    "        a[i] = complex(res.real, res.imag)\n",
    "    return a"
   ]
  }
 ]
}